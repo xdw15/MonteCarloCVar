{
 "cells": [
  {
   "cell_type": "markdown",
   "metadata": {},
   "source": [
    "# Monte Carlo Conditional-Value-at-Risk"
   ]
  },
  {
   "cell_type": "code",
   "execution_count": 1,
   "metadata": {},
   "outputs": [],
   "source": [
    "import pandas as pd\n",
    "import numpy as np\n",
    "import os"
   ]
  },
  {
   "cell_type": "code",
   "execution_count": null,
   "metadata": {},
   "outputs": [],
   "source": []
  },
  {
   "cell_type": "code",
   "execution_count": 2,
   "metadata": {},
   "outputs": [
    {
     "data": {
      "text/plain": [
       "'D:\\\\jupyter_notebooks'"
      ]
     },
     "execution_count": 2,
     "metadata": {},
     "output_type": "execute_result"
    }
   ],
   "source": [
    "os.getcwd()"
   ]
  },
  {
   "cell_type": "code",
   "execution_count": 3,
   "metadata": {},
   "outputs": [],
   "source": [
    "os.chdir(\"D:/jupyter_notebooks/csv\")"
   ]
  },
  {
   "cell_type": "code",
   "execution_count": 53,
   "metadata": {},
   "outputs": [],
   "source": [
    "os.chdir(\"C:/Users/Marcelo/Downloads/matlab\")"
   ]
  },
  {
   "cell_type": "code",
   "execution_count": 5,
   "metadata": {},
   "outputs": [],
   "source": [
    "datos=pd.read_csv(\"ETFPortfolio.csv\",sep=',')"
   ]
  },
  {
   "cell_type": "code",
   "execution_count": 54,
   "metadata": {},
   "outputs": [],
   "source": [
    "datos2=pd.read_csv(\"AMD.csv\",sep=\",\")"
   ]
  },
  {
   "cell_type": "code",
   "execution_count": 55,
   "metadata": {},
   "outputs": [
    {
     "data": {
      "text/html": [
       "<div>\n",
       "<style scoped>\n",
       "    .dataframe tbody tr th:only-of-type {\n",
       "        vertical-align: middle;\n",
       "    }\n",
       "\n",
       "    .dataframe tbody tr th {\n",
       "        vertical-align: top;\n",
       "    }\n",
       "\n",
       "    .dataframe thead th {\n",
       "        text-align: right;\n",
       "    }\n",
       "</style>\n",
       "<table border=\"1\" class=\"dataframe\">\n",
       "  <thead>\n",
       "    <tr style=\"text-align: right;\">\n",
       "      <th></th>\n",
       "      <th>Date</th>\n",
       "      <th>AMD</th>\n",
       "      <th>GS</th>\n",
       "      <th>TSLA</th>\n",
       "    </tr>\n",
       "  </thead>\n",
       "  <tbody>\n",
       "    <tr>\n",
       "      <th>0</th>\n",
       "      <td>10/1/2010</td>\n",
       "      <td>7.340000</td>\n",
       "      <td>138.709152</td>\n",
       "      <td>4.368000</td>\n",
       "    </tr>\n",
       "    <tr>\n",
       "      <th>1</th>\n",
       "      <td>11/1/2010</td>\n",
       "      <td>7.290000</td>\n",
       "      <td>134.413467</td>\n",
       "      <td>7.066000</td>\n",
       "    </tr>\n",
       "    <tr>\n",
       "      <th>2</th>\n",
       "      <td>12/1/2010</td>\n",
       "      <td>8.180000</td>\n",
       "      <td>145.079712</td>\n",
       "      <td>5.326000</td>\n",
       "    </tr>\n",
       "    <tr>\n",
       "      <th>3</th>\n",
       "      <td>1/1/2011</td>\n",
       "      <td>7.830000</td>\n",
       "      <td>141.162811</td>\n",
       "      <td>4.820000</td>\n",
       "    </tr>\n",
       "    <tr>\n",
       "      <th>4</th>\n",
       "      <td>2/1/2011</td>\n",
       "      <td>9.210000</td>\n",
       "      <td>141.300903</td>\n",
       "      <td>4.778000</td>\n",
       "    </tr>\n",
       "    <tr>\n",
       "      <th>...</th>\n",
       "      <td>...</td>\n",
       "      <td>...</td>\n",
       "      <td>...</td>\n",
       "      <td>...</td>\n",
       "    </tr>\n",
       "    <tr>\n",
       "      <th>115</th>\n",
       "      <td>5/1/2020</td>\n",
       "      <td>53.799999</td>\n",
       "      <td>194.094269</td>\n",
       "      <td>167.000000</td>\n",
       "    </tr>\n",
       "    <tr>\n",
       "      <th>116</th>\n",
       "      <td>6/1/2020</td>\n",
       "      <td>52.610001</td>\n",
       "      <td>196.430725</td>\n",
       "      <td>215.962006</td>\n",
       "    </tr>\n",
       "    <tr>\n",
       "      <th>117</th>\n",
       "      <td>7/1/2020</td>\n",
       "      <td>77.430000</td>\n",
       "      <td>196.768692</td>\n",
       "      <td>286.152008</td>\n",
       "    </tr>\n",
       "    <tr>\n",
       "      <th>118</th>\n",
       "      <td>8/1/2020</td>\n",
       "      <td>90.820000</td>\n",
       "      <td>203.637085</td>\n",
       "      <td>498.320007</td>\n",
       "    </tr>\n",
       "    <tr>\n",
       "      <th>119</th>\n",
       "      <td>9/1/2020</td>\n",
       "      <td>81.989998</td>\n",
       "      <td>200.970001</td>\n",
       "      <td>429.010010</td>\n",
       "    </tr>\n",
       "  </tbody>\n",
       "</table>\n",
       "<p>120 rows × 4 columns</p>\n",
       "</div>"
      ],
      "text/plain": [
       "          Date        AMD          GS        TSLA\n",
       "0    10/1/2010   7.340000  138.709152    4.368000\n",
       "1    11/1/2010   7.290000  134.413467    7.066000\n",
       "2    12/1/2010   8.180000  145.079712    5.326000\n",
       "3     1/1/2011   7.830000  141.162811    4.820000\n",
       "4     2/1/2011   9.210000  141.300903    4.778000\n",
       "..         ...        ...         ...         ...\n",
       "115   5/1/2020  53.799999  194.094269  167.000000\n",
       "116   6/1/2020  52.610001  196.430725  215.962006\n",
       "117   7/1/2020  77.430000  196.768692  286.152008\n",
       "118   8/1/2020  90.820000  203.637085  498.320007\n",
       "119   9/1/2020  81.989998  200.970001  429.010010\n",
       "\n",
       "[120 rows x 4 columns]"
      ]
     },
     "execution_count": 55,
     "metadata": {},
     "output_type": "execute_result"
    }
   ],
   "source": [
    "datos2"
   ]
  },
  {
   "cell_type": "code",
   "execution_count": 7,
   "metadata": {},
   "outputs": [],
   "source": [
    "datos.dropna(axis=0,how='all',inplace=True)"
   ]
  },
  {
   "cell_type": "code",
   "execution_count": 11,
   "metadata": {},
   "outputs": [],
   "source": [
    "precios=datos[datos.columns[1:]]"
   ]
  },
  {
   "cell_type": "code",
   "execution_count": null,
   "metadata": {},
   "outputs": [],
   "source": []
  },
  {
   "cell_type": "code",
   "execution_count": null,
   "metadata": {},
   "outputs": [],
   "source": []
  },
  {
   "cell_type": "code",
   "execution_count": null,
   "metadata": {},
   "outputs": [],
   "source": []
  },
  {
   "cell_type": "code",
   "execution_count": null,
   "metadata": {},
   "outputs": [],
   "source": []
  },
  {
   "cell_type": "code",
   "execution_count": null,
   "metadata": {},
   "outputs": [],
   "source": []
  },
  {
   "cell_type": "code",
   "execution_count": 268,
   "metadata": {},
   "outputs": [],
   "source": [
    "class MCVaR(object):\n",
    "    def __init__(self,matrixdata,weights,descending=True,N=10000,alpha=[10,5,2.5,1,0.1]):\n",
    "        self.matrixform=matrixdata.to_numpy()\n",
    "        if descending==True:\n",
    "            self.returns=preciosnp[:-1,:]/preciosnp[1:,:]-1\n",
    "        else:\n",
    "            self.returns=preciosnp2[:0:-1,:] /preciosnp2[-2: :-1,:]-1\n",
    "        self.covar=np.cov(self.returns,rowvar=False)\n",
    "        chol=np.linalg.cholesky(self.covar)\n",
    "        self.mean=np.mean(self.returns,axis=0)\n",
    "        r,c=self.matrixform.shape\n",
    "        self.simulations=np.random.normal(0,1,(N,c)).dot(chol.T)+self.mean\n",
    "        self.weights=np.array(weights)\n",
    "        self.portfolio_simulations=self.simulations.dot(self.weights)\n",
    "        self.var=np.percentile(self.portfolio_simulations,q=alpha)\n",
    "        C=np.array(alpha)*T/100\n",
    "        self.Cvar=[]\n",
    "        for i in C:\n",
    "            self.Cvar.append(np.mean(np.sort(self.portfolio_simulations,axis=0)[: int(i)]))\n",
    "        D={'VaR':self.var,'CVaR':self.Cvar}\n",
    "        self.output_data=pd.DataFrame(data=D,index=['10%','5%','2.5%','1%','0.1%'])\n",
    "    def Chart(self):\n",
    "        print(\"Pending\")\n",
    "        "
   ]
  },
  {
   "cell_type": "code",
   "execution_count": null,
   "metadata": {},
   "outputs": [],
   "source": []
  },
  {
   "cell_type": "code",
   "execution_count": 269,
   "metadata": {},
   "outputs": [],
   "source": [
    "a=MCVaR(datos2[datos2.columns[1:]],weights=[0.3,0.5,0.2],descending=False)"
   ]
  },
  {
   "cell_type": "code",
   "execution_count": 270,
   "metadata": {},
   "outputs": [
    {
     "data": {
      "text/plain": [
       "[-0.1628052997200234,\n",
       " -0.18666634881922986,\n",
       " -0.20784411421984988,\n",
       " -0.23538919748038709,\n",
       " -0.276515817542239]"
      ]
     },
     "execution_count": 270,
     "metadata": {},
     "output_type": "execute_result"
    }
   ],
   "source": [
    "a.Cvar"
   ]
  },
  {
   "cell_type": "code",
   "execution_count": 271,
   "metadata": {},
   "outputs": [
    {
     "data": {
      "text/html": [
       "<div>\n",
       "<style scoped>\n",
       "    .dataframe tbody tr th:only-of-type {\n",
       "        vertical-align: middle;\n",
       "    }\n",
       "\n",
       "    .dataframe tbody tr th {\n",
       "        vertical-align: top;\n",
       "    }\n",
       "\n",
       "    .dataframe thead th {\n",
       "        text-align: right;\n",
       "    }\n",
       "</style>\n",
       "<table border=\"1\" class=\"dataframe\">\n",
       "  <thead>\n",
       "    <tr style=\"text-align: right;\">\n",
       "      <th></th>\n",
       "      <th>VaR</th>\n",
       "      <th>CVaR</th>\n",
       "    </tr>\n",
       "  </thead>\n",
       "  <tbody>\n",
       "    <tr>\n",
       "      <th>10%</th>\n",
       "      <td>-0.091522</td>\n",
       "      <td>-0.162805</td>\n",
       "    </tr>\n",
       "    <tr>\n",
       "      <th>5%</th>\n",
       "      <td>-0.125080</td>\n",
       "      <td>-0.186666</td>\n",
       "    </tr>\n",
       "    <tr>\n",
       "      <th>2.5%</th>\n",
       "      <td>-0.153807</td>\n",
       "      <td>-0.207844</td>\n",
       "    </tr>\n",
       "    <tr>\n",
       "      <th>1%</th>\n",
       "      <td>-0.184709</td>\n",
       "      <td>-0.235389</td>\n",
       "    </tr>\n",
       "    <tr>\n",
       "      <th>0.1%</th>\n",
       "      <td>-0.253475</td>\n",
       "      <td>-0.276516</td>\n",
       "    </tr>\n",
       "  </tbody>\n",
       "</table>\n",
       "</div>"
      ],
      "text/plain": [
       "           VaR      CVaR\n",
       "10%  -0.091522 -0.162805\n",
       "5%   -0.125080 -0.186666\n",
       "2.5% -0.153807 -0.207844\n",
       "1%   -0.184709 -0.235389\n",
       "0.1% -0.253475 -0.276516"
      ]
     },
     "execution_count": 271,
     "metadata": {},
     "output_type": "execute_result"
    }
   ],
   "source": [
    "a.output_data"
   ]
  },
  {
   "cell_type": "code",
   "execution_count": null,
   "metadata": {},
   "outputs": [],
   "source": []
  },
  {
   "cell_type": "code",
   "execution_count": null,
   "metadata": {},
   "outputs": [],
   "source": []
  },
  {
   "cell_type": "code",
   "execution_count": null,
   "metadata": {},
   "outputs": [],
   "source": []
  },
  {
   "cell_type": "code",
   "execution_count": null,
   "metadata": {},
   "outputs": [],
   "source": []
  },
  {
   "cell_type": "code",
   "execution_count": null,
   "metadata": {},
   "outputs": [],
   "source": []
  },
  {
   "cell_type": "code",
   "execution_count": null,
   "metadata": {},
   "outputs": [],
   "source": []
  },
  {
   "cell_type": "code",
   "execution_count": null,
   "metadata": {},
   "outputs": [],
   "source": []
  },
  {
   "cell_type": "code",
   "execution_count": null,
   "metadata": {},
   "outputs": [],
   "source": []
  }
 ],
 "metadata": {
  "kernelspec": {
   "display_name": "Python 3",
   "language": "python",
   "name": "python3"
  },
  "language_info": {
   "codemirror_mode": {
    "name": "ipython",
    "version": 3
   },
   "file_extension": ".py",
   "mimetype": "text/x-python",
   "name": "python",
   "nbconvert_exporter": "python",
   "pygments_lexer": "ipython3",
   "version": "3.8.5"
  }
 },
 "nbformat": 4,
 "nbformat_minor": 4
}
